{
 "cells": [
  {
   "cell_type": "code",
   "execution_count": 1,
   "metadata": {},
   "outputs": [],
   "source": [
    "import numpy as np \n",
    "import pandas as pd \n",
    "import matplotlib.pyplot as plt\n",
    "import seaborn as sns\n",
    "from sklearn.feature_extraction import text\n",
    "from sklearn.feature_extraction.text import TfidfVectorizer\n",
    "from sklearn.cluster import KMeans \n",
    "from nltk.tokenize import RegexpTokenizer\n",
    "from nltk.stem.snowball import SnowballStemmer\n"
   ]
  },
  {
   "cell_type": "code",
   "execution_count": 2,
   "metadata": {},
   "outputs": [
    {
     "data": {
      "text/html": [
       "<div>\n",
       "<style scoped>\n",
       "    .dataframe tbody tr th:only-of-type {\n",
       "        vertical-align: middle;\n",
       "    }\n",
       "\n",
       "    .dataframe tbody tr th {\n",
       "        vertical-align: top;\n",
       "    }\n",
       "\n",
       "    .dataframe thead th {\n",
       "        text-align: right;\n",
       "    }\n",
       "</style>\n",
       "<table border=\"1\" class=\"dataframe\">\n",
       "  <thead>\n",
       "    <tr style=\"text-align: right;\">\n",
       "      <th></th>\n",
       "      <th>Unnamed: 0</th>\n",
       "      <th>country</th>\n",
       "      <th>description</th>\n",
       "      <th>designation</th>\n",
       "      <th>points</th>\n",
       "      <th>price</th>\n",
       "      <th>province</th>\n",
       "      <th>region_1</th>\n",
       "      <th>region_2</th>\n",
       "      <th>variety</th>\n",
       "      <th>winery</th>\n",
       "    </tr>\n",
       "  </thead>\n",
       "  <tbody>\n",
       "    <tr>\n",
       "      <td>0</td>\n",
       "      <td>0</td>\n",
       "      <td>US</td>\n",
       "      <td>This tremendous 100% varietal wine hails from ...</td>\n",
       "      <td>Martha's Vineyard</td>\n",
       "      <td>96</td>\n",
       "      <td>235.0</td>\n",
       "      <td>California</td>\n",
       "      <td>Napa Valley</td>\n",
       "      <td>Napa</td>\n",
       "      <td>Cabernet Sauvignon</td>\n",
       "      <td>Heitz</td>\n",
       "    </tr>\n",
       "    <tr>\n",
       "      <td>1</td>\n",
       "      <td>1</td>\n",
       "      <td>Spain</td>\n",
       "      <td>Ripe aromas of fig, blackberry and cassis are ...</td>\n",
       "      <td>Carodorum Selección Especial Reserva</td>\n",
       "      <td>96</td>\n",
       "      <td>110.0</td>\n",
       "      <td>Northern Spain</td>\n",
       "      <td>Toro</td>\n",
       "      <td>NaN</td>\n",
       "      <td>Tinta de Toro</td>\n",
       "      <td>Bodega Carmen Rodríguez</td>\n",
       "    </tr>\n",
       "    <tr>\n",
       "      <td>2</td>\n",
       "      <td>2</td>\n",
       "      <td>US</td>\n",
       "      <td>Mac Watson honors the memory of a wine once ma...</td>\n",
       "      <td>Special Selected Late Harvest</td>\n",
       "      <td>96</td>\n",
       "      <td>90.0</td>\n",
       "      <td>California</td>\n",
       "      <td>Knights Valley</td>\n",
       "      <td>Sonoma</td>\n",
       "      <td>Sauvignon Blanc</td>\n",
       "      <td>Macauley</td>\n",
       "    </tr>\n",
       "    <tr>\n",
       "      <td>3</td>\n",
       "      <td>3</td>\n",
       "      <td>US</td>\n",
       "      <td>This spent 20 months in 30% new French oak, an...</td>\n",
       "      <td>Reserve</td>\n",
       "      <td>96</td>\n",
       "      <td>65.0</td>\n",
       "      <td>Oregon</td>\n",
       "      <td>Willamette Valley</td>\n",
       "      <td>Willamette Valley</td>\n",
       "      <td>Pinot Noir</td>\n",
       "      <td>Ponzi</td>\n",
       "    </tr>\n",
       "    <tr>\n",
       "      <td>4</td>\n",
       "      <td>4</td>\n",
       "      <td>France</td>\n",
       "      <td>This is the top wine from La Bégude, named aft...</td>\n",
       "      <td>La Brûlade</td>\n",
       "      <td>95</td>\n",
       "      <td>66.0</td>\n",
       "      <td>Provence</td>\n",
       "      <td>Bandol</td>\n",
       "      <td>NaN</td>\n",
       "      <td>Provence red blend</td>\n",
       "      <td>Domaine de la Bégude</td>\n",
       "    </tr>\n",
       "  </tbody>\n",
       "</table>\n",
       "</div>"
      ],
      "text/plain": [
       "   Unnamed: 0 country                                        description  \\\n",
       "0           0      US  This tremendous 100% varietal wine hails from ...   \n",
       "1           1   Spain  Ripe aromas of fig, blackberry and cassis are ...   \n",
       "2           2      US  Mac Watson honors the memory of a wine once ma...   \n",
       "3           3      US  This spent 20 months in 30% new French oak, an...   \n",
       "4           4  France  This is the top wine from La Bégude, named aft...   \n",
       "\n",
       "                            designation  points  price        province  \\\n",
       "0                     Martha's Vineyard      96  235.0      California   \n",
       "1  Carodorum Selección Especial Reserva      96  110.0  Northern Spain   \n",
       "2         Special Selected Late Harvest      96   90.0      California   \n",
       "3                               Reserve      96   65.0          Oregon   \n",
       "4                            La Brûlade      95   66.0        Provence   \n",
       "\n",
       "            region_1           region_2             variety  \\\n",
       "0        Napa Valley               Napa  Cabernet Sauvignon   \n",
       "1               Toro                NaN       Tinta de Toro   \n",
       "2     Knights Valley             Sonoma     Sauvignon Blanc   \n",
       "3  Willamette Valley  Willamette Valley          Pinot Noir   \n",
       "4             Bandol                NaN  Provence red blend   \n",
       "\n",
       "                    winery  \n",
       "0                    Heitz  \n",
       "1  Bodega Carmen Rodríguez  \n",
       "2                 Macauley  \n",
       "3                    Ponzi  \n",
       "4     Domaine de la Bégude  "
      ]
     },
     "execution_count": 2,
     "metadata": {},
     "output_type": "execute_result"
    }
   ],
   "source": [
    "winedf = pd.read_csv(r'C:\\Users\\Umesh\\Documents\\JupyterNotebook\\1442_8172_bundle_archive\\winemag-data_first150k.csv')\n",
    "winedf.head()"
   ]
  },
  {
   "cell_type": "code",
   "execution_count": 3,
   "metadata": {},
   "outputs": [
    {
     "name": "stdout",
     "output_type": "stream",
     "text": [
      "<class 'pandas.core.frame.DataFrame'>\n",
      "RangeIndex: 150930 entries, 0 to 150929\n",
      "Data columns (total 11 columns):\n",
      "Unnamed: 0     150930 non-null int64\n",
      "country        150925 non-null object\n",
      "description    150930 non-null object\n",
      "designation    105195 non-null object\n",
      "points         150930 non-null int64\n",
      "price          137235 non-null float64\n",
      "province       150925 non-null object\n",
      "region_1       125870 non-null object\n",
      "region_2       60953 non-null object\n",
      "variety        150930 non-null object\n",
      "winery         150930 non-null object\n",
      "dtypes: float64(1), int64(2), object(8)\n",
      "memory usage: 12.7+ MB\n"
     ]
    }
   ],
   "source": [
    "winedf.info()"
   ]
  },
  {
   "cell_type": "code",
   "execution_count": 4,
   "metadata": {},
   "outputs": [
    {
     "data": {
      "text/html": [
       "<div>\n",
       "<style scoped>\n",
       "    .dataframe tbody tr th:only-of-type {\n",
       "        vertical-align: middle;\n",
       "    }\n",
       "\n",
       "    .dataframe tbody tr th {\n",
       "        vertical-align: top;\n",
       "    }\n",
       "\n",
       "    .dataframe thead th {\n",
       "        text-align: right;\n",
       "    }\n",
       "</style>\n",
       "<table border=\"1\" class=\"dataframe\">\n",
       "  <thead>\n",
       "    <tr style=\"text-align: right;\">\n",
       "      <th></th>\n",
       "      <th>Unnamed: 0</th>\n",
       "      <th>country</th>\n",
       "      <th>description</th>\n",
       "      <th>designation</th>\n",
       "      <th>points</th>\n",
       "      <th>price</th>\n",
       "      <th>province</th>\n",
       "      <th>region_1</th>\n",
       "      <th>region_2</th>\n",
       "      <th>variety</th>\n",
       "      <th>winery</th>\n",
       "    </tr>\n",
       "  </thead>\n",
       "  <tbody>\n",
       "    <tr>\n",
       "      <td>147725</td>\n",
       "      <td>147725</td>\n",
       "      <td>Chile</td>\n",
       "      <td>$11. Opens with a highly perfumed bouquet of l...</td>\n",
       "      <td>Estate Reserve</td>\n",
       "      <td>84</td>\n",
       "      <td>11.0</td>\n",
       "      <td>Maipo Valley</td>\n",
       "      <td>NaN</td>\n",
       "      <td>NaN</td>\n",
       "      <td>Chardonnay</td>\n",
       "      <td>La Playa</td>\n",
       "    </tr>\n",
       "    <tr>\n",
       "      <td>62345</td>\n",
       "      <td>62345</td>\n",
       "      <td>Chile</td>\n",
       "      <td>$11. Opens with a highly perfumed bouquet of l...</td>\n",
       "      <td>Estate Reserve</td>\n",
       "      <td>84</td>\n",
       "      <td>11.0</td>\n",
       "      <td>Maipo Valley</td>\n",
       "      <td>NaN</td>\n",
       "      <td>NaN</td>\n",
       "      <td>Chardonnay</td>\n",
       "      <td>La Playa</td>\n",
       "    </tr>\n",
       "    <tr>\n",
       "      <td>74993</td>\n",
       "      <td>74993</td>\n",
       "      <td>US</td>\n",
       "      <td>). Very good wine from a winery increasingly k...</td>\n",
       "      <td>Rockpile Ridge Vineyard</td>\n",
       "      <td>92</td>\n",
       "      <td>47.0</td>\n",
       "      <td>California</td>\n",
       "      <td>Rockpile</td>\n",
       "      <td>Sonoma</td>\n",
       "      <td>Cabernet Sauvignon</td>\n",
       "      <td>Mauritson</td>\n",
       "    </tr>\n",
       "    <tr>\n",
       "      <td>18803</td>\n",
       "      <td>18803</td>\n",
       "      <td>US</td>\n",
       "      <td>). Very good wine from a winery increasingly k...</td>\n",
       "      <td>Rockpile Ridge Vineyard</td>\n",
       "      <td>92</td>\n",
       "      <td>47.0</td>\n",
       "      <td>California</td>\n",
       "      <td>Rockpile</td>\n",
       "      <td>Sonoma</td>\n",
       "      <td>Cabernet Sauvignon</td>\n",
       "      <td>Mauritson</td>\n",
       "    </tr>\n",
       "    <tr>\n",
       "      <td>26530</td>\n",
       "      <td>26530</td>\n",
       "      <td>Austria</td>\n",
       "      <td>. Christoph Neumeister's top wine, this is a c...</td>\n",
       "      <td>Moarfeitl</td>\n",
       "      <td>93</td>\n",
       "      <td>48.0</td>\n",
       "      <td>Südoststeiermark</td>\n",
       "      <td>NaN</td>\n",
       "      <td>NaN</td>\n",
       "      <td>Sauvignon Blanc</td>\n",
       "      <td>Neumeister</td>\n",
       "    </tr>\n",
       "    <tr>\n",
       "      <td>84730</td>\n",
       "      <td>84730</td>\n",
       "      <td>Austria</td>\n",
       "      <td>. Christoph Neumeister's top wine, this is a c...</td>\n",
       "      <td>Moarfeitl</td>\n",
       "      <td>93</td>\n",
       "      <td>48.0</td>\n",
       "      <td>Südoststeiermark</td>\n",
       "      <td>NaN</td>\n",
       "      <td>NaN</td>\n",
       "      <td>Sauvignon Blanc</td>\n",
       "      <td>Neumeister</td>\n",
       "    </tr>\n",
       "    <tr>\n",
       "      <td>53110</td>\n",
       "      <td>53110</td>\n",
       "      <td>Austria</td>\n",
       "      <td>. Christoph Neumeister's top wine, this is a c...</td>\n",
       "      <td>Moarfeitl</td>\n",
       "      <td>93</td>\n",
       "      <td>48.0</td>\n",
       "      <td>Südoststeiermark</td>\n",
       "      <td>NaN</td>\n",
       "      <td>NaN</td>\n",
       "      <td>Sauvignon Blanc</td>\n",
       "      <td>Neumeister</td>\n",
       "    </tr>\n",
       "    <tr>\n",
       "      <td>107351</td>\n",
       "      <td>107351</td>\n",
       "      <td>France</td>\n",
       "      <td>. From a small south-facing parcel next to the...</td>\n",
       "      <td>Trie Spéciale</td>\n",
       "      <td>91</td>\n",
       "      <td>38.0</td>\n",
       "      <td>Loire Valley</td>\n",
       "      <td>Savennières</td>\n",
       "      <td>NaN</td>\n",
       "      <td>Chenin Blanc</td>\n",
       "      <td>Domaine des Baumard</td>\n",
       "    </tr>\n",
       "  </tbody>\n",
       "</table>\n",
       "</div>"
      ],
      "text/plain": [
       "        Unnamed: 0  country  \\\n",
       "147725      147725    Chile   \n",
       "62345        62345    Chile   \n",
       "74993        74993       US   \n",
       "18803        18803       US   \n",
       "26530        26530  Austria   \n",
       "84730        84730  Austria   \n",
       "53110        53110  Austria   \n",
       "107351      107351   France   \n",
       "\n",
       "                                              description  \\\n",
       "147725  $11. Opens with a highly perfumed bouquet of l...   \n",
       "62345   $11. Opens with a highly perfumed bouquet of l...   \n",
       "74993   ). Very good wine from a winery increasingly k...   \n",
       "18803   ). Very good wine from a winery increasingly k...   \n",
       "26530   . Christoph Neumeister's top wine, this is a c...   \n",
       "84730   . Christoph Neumeister's top wine, this is a c...   \n",
       "53110   . Christoph Neumeister's top wine, this is a c...   \n",
       "107351  . From a small south-facing parcel next to the...   \n",
       "\n",
       "                    designation  points  price          province     region_1  \\\n",
       "147725           Estate Reserve      84   11.0      Maipo Valley          NaN   \n",
       "62345            Estate Reserve      84   11.0      Maipo Valley          NaN   \n",
       "74993   Rockpile Ridge Vineyard      92   47.0        California     Rockpile   \n",
       "18803   Rockpile Ridge Vineyard      92   47.0        California     Rockpile   \n",
       "26530                 Moarfeitl      93   48.0  Südoststeiermark          NaN   \n",
       "84730                 Moarfeitl      93   48.0  Südoststeiermark          NaN   \n",
       "53110                 Moarfeitl      93   48.0  Südoststeiermark          NaN   \n",
       "107351            Trie Spéciale      91   38.0      Loire Valley  Savennières   \n",
       "\n",
       "       region_2             variety               winery  \n",
       "147725      NaN          Chardonnay             La Playa  \n",
       "62345       NaN          Chardonnay             La Playa  \n",
       "74993    Sonoma  Cabernet Sauvignon            Mauritson  \n",
       "18803    Sonoma  Cabernet Sauvignon            Mauritson  \n",
       "26530       NaN     Sauvignon Blanc           Neumeister  \n",
       "84730       NaN     Sauvignon Blanc           Neumeister  \n",
       "53110       NaN     Sauvignon Blanc           Neumeister  \n",
       "107351      NaN        Chenin Blanc  Domaine des Baumard  "
      ]
     },
     "execution_count": 4,
     "metadata": {},
     "output_type": "execute_result"
    }
   ],
   "source": [
    "winedf[winedf['description'].duplicated(keep = False)].sort_values('description').head(8)"
   ]
  },
  {
   "cell_type": "code",
   "execution_count": 5,
   "metadata": {},
   "outputs": [],
   "source": [
    "# Dropping the duplicates\n",
    "winedf = winedf.drop_duplicates('description')"
   ]
  },
  {
   "cell_type": "code",
   "execution_count": 6,
   "metadata": {},
   "outputs": [
    {
     "data": {
      "image/png": "[encoded data removed]",
      "text/plain": [
       "<Figure size 1800x720 with 1 Axes>"
      ]
     },
     "metadata": {
      "needs_background": "light"
     },
     "output_type": "display_data"
    }
   ],
   "source": [
    "variety_df = winedf.groupby('variety').filter(lambda x: len(x) > 1500)\n",
    "varieties = variety_df['variety'].value_counts().index.tolist()\n",
    "fig, ax = plt.subplots(figsize = (25, 10))\n",
    "sns.countplot(x = variety_df['variety'], order = varieties, ax = ax)\n",
    "plt.xticks(rotation = 90)\n",
    "plt.show()"
   ]
  },
  {
   "cell_type": "code",
   "execution_count": 7,
   "metadata": {},
   "outputs": [
    {
     "data": {
      "text/plain": [
       "array(['Cabernet Sauvignon', 'Sauvignon Blanc', 'Pinot Noir',\n",
       "       'Chardonnay', 'Tempranillo', 'Malbec', 'Rosé', 'Syrah',\n",
       "       'Sangiovese', 'Red Blend', 'Riesling', 'White Blend', 'Zinfandel',\n",
       "       'Bordeaux-style Red Blend', 'Merlot'], dtype=object)"
      ]
     },
     "execution_count": 7,
     "metadata": {},
     "output_type": "execute_result"
    }
   ],
   "source": [
    "variety_df['variety'].unique()"
   ]
  },
  {
   "cell_type": "code",
   "execution_count": 8,
   "metadata": {},
   "outputs": [],
   "source": [
    "punc = ['.', ',', '\"', \"'\", '?', '!', ':', ';', '(', ')', '[', ']', '{', '}',\"%\"]\n",
    "stop_words = text.ENGLISH_STOP_WORDS.union(punc)\n",
    "desc = variety_df['description'].values\n",
    "vectorizer = TfidfVectorizer(stop_words = stop_words)\n",
    "X = vectorizer.fit_transform(desc)"
   ]
  },
  {
   "cell_type": "code",
   "execution_count": 9,
   "metadata": {},
   "outputs": [
    {
     "data": {
      "text/plain": [
       "['aboard',\n",
       " 'abondante',\n",
       " 'abound',\n",
       " 'abounding',\n",
       " 'abounds',\n",
       " 'abouriou',\n",
       " 'abracadabra',\n",
       " 'abrasive',\n",
       " 'abrasiveness',\n",
       " 'abreu',\n",
       " 'abroad',\n",
       " 'abrupt',\n",
       " 'abruptly',\n",
       " 'abruzzi',\n",
       " 'abruzzo',\n",
       " 'absence',\n",
       " 'absent',\n",
       " 'absolute',\n",
       " 'absolutely',\n",
       " 'absorb',\n",
       " 'absorbed',\n",
       " 'absorbs',\n",
       " 'abstberg',\n",
       " 'absurd',\n",
       " 'abtsberg']"
      ]
     },
     "execution_count": 9,
     "metadata": {},
     "output_type": "execute_result"
    }
   ],
   "source": [
    "word_features = vectorizer.get_feature_names()\n",
    "word_features[550:575]"
   ]
  },
  {
   "cell_type": "code",
   "execution_count": 10,
   "metadata": {},
   "outputs": [],
   "source": [
    "stemmer = SnowballStemmer('english')\n",
    "tokenizer = RegexpTokenizer(r'[a-zA-Z\\']+')\n",
    "\n",
    "def tokenize(text):\n",
    "    return [stemmer.stem(word) for word in tokenizer.tokenize(text.lower())]"
   ]
  },
  {
   "cell_type": "code",
   "execution_count": 11,
   "metadata": {},
   "outputs": [
    {
     "name": "stderr",
     "output_type": "stream",
     "text": [
      "C:\\ProgramData\\Anaconda3\\lib\\site-packages\\sklearn\\feature_extraction\\text.py:300: UserWarning: Your stop_words may be inconsistent with your preprocessing. Tokenizing the stop words generated tokens ['abov', 'afterward', 'alon', 'alreadi', 'alway', 'ani', 'anoth', 'anyon', 'anyth', 'anywher', 'becam', 'becaus', 'becom', 'befor', 'besid', 'cri', 'describ', 'dure', 'els', 'elsewher', 'empti', 'everi', 'everyon', 'everyth', 'everywher', 'fifti', 'forti', 'henc', 'hereaft', 'herebi', 'howev', 'hundr', 'inde', 'mani', 'meanwhil', 'moreov', 'nobodi', 'noon', 'noth', 'nowher', 'onc', 'onli', 'otherwis', 'ourselv', 'perhap', 'pleas', 'sever', 'sinc', 'sincer', 'sixti', 'someon', 'someth', 'sometim', 'somewher', 'themselv', 'thenc', 'thereaft', 'therebi', 'therefor', 'togeth', 'twelv', 'twenti', 'veri', 'whatev', 'whenc', 'whenev', 'wherea', 'whereaft', 'wherebi', 'wherev', 'whi', 'yourselv'] not in stop_words.\n",
      "  'stop_words.' % sorted(inconsistent))\n"
     ]
    },
    {
     "data": {
      "text/plain": [
       "[\"'s\",\n",
       " \"a'\",\n",
       " \"a'plenti\",\n",
       " 'aa',\n",
       " 'aah',\n",
       " 'aand',\n",
       " 'aaron',\n",
       " 'abacela',\n",
       " 'abad',\n",
       " 'abadia',\n",
       " 'abandon',\n",
       " 'abarbanel',\n",
       " 'abbacchio',\n",
       " 'abbay',\n",
       " 'abbey',\n",
       " 'abbinar',\n",
       " 'abboccato',\n",
       " 'abbott',\n",
       " 'abbrevi',\n",
       " 'abbuoto',\n",
       " 'abc',\n",
       " 'abeill',\n",
       " 'abeja',\n",
       " 'abernathi',\n",
       " 'aberr',\n",
       " 'abetina',\n",
       " 'abey',\n",
       " 'abil',\n",
       " 'abl',\n",
       " 'abli',\n",
       " 'abnorm',\n",
       " 'aboard',\n",
       " 'abondant',\n",
       " 'abound',\n",
       " 'abouriou',\n",
       " 'abov',\n",
       " 'abracadabra',\n",
       " 'abras',\n",
       " 'abreu',\n",
       " 'abroad',\n",
       " 'abrupt',\n",
       " 'abruzzi',\n",
       " 'abruzzo',\n",
       " 'absenc',\n",
       " 'absent',\n",
       " 'absolut',\n",
       " 'absorb',\n",
       " 'abstberg',\n",
       " 'absurd',\n",
       " 'abtsberg']"
      ]
     },
     "execution_count": 11,
     "metadata": {},
     "output_type": "execute_result"
    }
   ],
   "source": [
    "vectorizer2 = TfidfVectorizer(stop_words = stop_words, tokenizer = tokenize)\n",
    "X2 = vectorizer2.fit_transform(desc)\n",
    "word_features2 = vectorizer2.get_feature_names()\n",
    "word_features2[:50]"
   ]
  },
  {
   "cell_type": "code",
   "execution_count": 12,
   "metadata": {},
   "outputs": [
    {
     "name": "stderr",
     "output_type": "stream",
     "text": [
      "C:\\ProgramData\\Anaconda3\\lib\\site-packages\\sklearn\\feature_extraction\\text.py:300: UserWarning: Your stop_words may be inconsistent with your preprocessing. Tokenizing the stop words generated tokens ['abov', 'afterward', 'alon', 'alreadi', 'alway', 'ani', 'anoth', 'anyon', 'anyth', 'anywher', 'becam', 'becaus', 'becom', 'befor', 'besid', 'cri', 'describ', 'dure', 'els', 'elsewher', 'empti', 'everi', 'everyon', 'everyth', 'everywher', 'fifti', 'forti', 'henc', 'hereaft', 'herebi', 'howev', 'hundr', 'inde', 'mani', 'meanwhil', 'moreov', 'nobodi', 'noon', 'noth', 'nowher', 'onc', 'onli', 'otherwis', 'ourselv', 'perhap', 'pleas', 'sever', 'sinc', 'sincer', 'sixti', 'someon', 'someth', 'sometim', 'somewher', 'themselv', 'thenc', 'thereaft', 'therebi', 'therefor', 'togeth', 'twelv', 'twenti', 'veri', 'whatev', 'whenc', 'whenev', 'wherea', 'whereaft', 'wherebi', 'wherev', 'whi', 'yourselv'] not in stop_words.\n",
      "  'stop_words.' % sorted(inconsistent))\n"
     ]
    }
   ],
   "source": [
    "vectorizer3 = TfidfVectorizer(stop_words = stop_words, tokenizer = tokenize, max_features = 1000)\n",
    "X3 = vectorizer3.fit_transform(desc)\n",
    "words = vectorizer3.get_feature_names()"
   ]
  },
  {
   "cell_type": "code",
   "execution_count": 13,
   "metadata": {},
   "outputs": [
    {
     "data": {
      "text/plain": [
       "KMeans(algorithm='auto', copy_x=True, init='k-means++', max_iter=300,\n",
       "       n_clusters=15, n_init=5, n_jobs=-1, precompute_distances='auto',\n",
       "       random_state=None, tol=0.0001, verbose=0)"
      ]
     },
     "execution_count": 13,
     "metadata": {},
     "output_type": "execute_result"
    }
   ],
   "source": [
    "kmeans = KMeans(n_clusters = 15, n_init = 5, n_jobs = -1)\n",
    "kmeans.fit(X3)"
   ]
  },
  {
   "cell_type": "code",
   "execution_count": 14,
   "metadata": {},
   "outputs": [
    {
     "name": "stdout",
     "output_type": "stream",
     "text": [
      "0 : cabernet, sauvignon, blend, merlot, franc, petit, verdot, wine, syrah, cherri\n",
      "1 : wine, fruit, cherri, flavor, finish, red, tannin, spice, note, aroma\n",
      "2 : black, cherri, palat, aroma, tannin, pepper, plum, spice, fruit, finish\n",
      "3 : dark, fruit, chocol, black, wine, flavor, tannin, finish, cherri, blackberri\n",
      "4 : chardonnay, pineappl, butter, oak, toast, flavor, vanilla, acid, rich, pear\n",
      "5 : sampl, barrel, wine, tannin, fruit, ripe, wood, structur, juici, veri\n",
      "6 : berri, aroma, finish, plum, palat, flavor, herbal, feel, red, nose\n",
      "7 : alcohol, high, flavor, wine, hot, sweet, zin, blackberri, heat, cherri\n",
      "8 : pinot, noir, cherri, cola, silki, flavor, raspberri, dri, acid, drink\n",
      "9 : sweet, cherri, simpl, flavor, soft, candi, raspberri, tast, like, wine\n",
      "10 : appl, green, flavor, pear, finish, citrus, palat, wine, acid, fresh\n",
      "11 : wine, age, fruit, wood, structur, tannin, year, rich, ripe, firm\n",
      "12 : blackberri, currant, dri, tannin, flavor, cherri, rich, oak, wine, drink\n",
      "13 : wine, fresh, acid, fruiti, fruit, light, attract, drink, crisp, red\n",
      "14 : citrus, finish, flavor, white, peach, lemon, lime, blanc, acid, wine\n"
     ]
    }
   ],
   "source": [
    "common_words = kmeans.cluster_centers_.argsort()[:,-1:-11:-1]\n",
    "for num, centroid in enumerate(common_words):\n",
    "    print(str(num) + ' : ' + ', '.join(words[word] for word in centroid))"
   ]
  },
  {
   "cell_type": "code",
   "execution_count": 15,
   "metadata": {},
   "outputs": [
    {
     "name": "stderr",
     "output_type": "stream",
     "text": [
      "C:\\ProgramData\\Anaconda3\\lib\\site-packages\\ipykernel_launcher.py:1: SettingWithCopyWarning: \n",
      "A value is trying to be set on a copy of a slice from a DataFrame.\n",
      "Try using .loc[row_indexer,col_indexer] = value instead\n",
      "\n",
      "See the caveats in the documentation: http://pandas.pydata.org/pandas-docs/stable/user_guide/indexing.html#returning-a-view-versus-a-copy\n",
      "  \"\"\"Entry point for launching an IPython kernel.\n"
     ]
    }
   ],
   "source": [
    "variety_df['cluster'] = kmeans.labels_"
   ]
  },
  {
   "cell_type": "code",
   "execution_count": 16,
   "metadata": {},
   "outputs": [
    {
     "data": {
      "image/png": "[encoded data removed]",
      "text/plain": [
       "<Figure size 2160x1080 with 2 Axes>"
      ]
     },
     "metadata": {
      "needs_background": "light"
     },
     "output_type": "display_data"
    }
   ],
   "source": [
    "clusters = variety_df.groupby(['cluster', 'variety']).size()\n",
    "fig2, ax2 = plt.subplots(figsize = (30, 15))\n",
    "sns.heatmap(clusters.unstack(level = 'variety'), ax = ax2, cmap = 'Reds')\n",
    "\n",
    "ax2.set_xlabel('variety', fontdict = {'weight': 'bold', 'size': 24})\n",
    "ax2.set_ylabel('cluster', fontdict = {'weight': 'bold', 'size': 24})\n",
    "for label in ax2.get_xticklabels():\n",
    "    label.set_size(16)\n",
    "    label.set_weight(\"bold\")\n",
    "for label in ax2.get_yticklabels():\n",
    "    label.set_size(16)\n",
    "    label.set_weight(\"bold\")"
   ]
  },
  {
   "cell_type": "code",
   "execution_count": null,
   "metadata": {},
   "outputs": [],
   "source": []
  }
 ],
 "metadata": {
  "kernelspec": {
   "display_name": "Python 3",
   "language": "python",
   "name": "python3"
  },
  "language_info": {
   "codemirror_mode": {
    "name": "ipython",
    "version": 3
   },
   "file_extension": ".py",
   "mimetype": "text/x-python",
   "name": "python",
   "nbconvert_exporter": "python",
   "pygments_lexer": "ipython3",
   "version": "3.7.4"
  }
 },
 "nbformat": 4,
 "nbformat_minor": 2
}
